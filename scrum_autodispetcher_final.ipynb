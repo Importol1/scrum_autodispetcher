{
 "cells": [
  {
   "cell_type": "markdown",
   "id": "31953411",
   "metadata": {},
   "source": [
    "# Парсинг сайта автодиспетчер"
   ]
  },
  {
   "cell_type": "markdown",
   "id": "b8f49827",
   "metadata": {},
   "source": [
    "- https://www.avtodispetcher.ru/distance/"
   ]
  },
  {
   "cell_type": "code",
   "execution_count": 13,
   "id": "18f78bc9",
   "metadata": {},
   "outputs": [],
   "source": [
    "import pandas as pd\n",
    "import requests\n",
    "from bs4 import BeautifulSoup as BeautifulSoup\n",
    "import fake_useragent\n",
    "import time\n",
    "from fake_useragent import UserAgent\n",
    "\n",
    "# Suitable default display for floats\n",
    "pd.options.display.float_format = '{:,.3f}'.format\n",
    "\n",
    "# Отобразить все колонки\n",
    "pd.set_option('max_columns', None)\n"
   ]
  },
  {
   "cell_type": "code",
   "execution_count": 2,
   "id": "20bddca4",
   "metadata": {},
   "outputs": [],
   "source": [
    "# Открываем файл\n",
    "df = pd.read_excel(\"2023 07 13_schema.xlsx\")"
   ]
  },
  {
   "cell_type": "code",
   "execution_count": 3,
   "id": "6fa67685",
   "metadata": {},
   "outputs": [],
   "source": [
    "# подготовка df\n",
    "df1 = df[ ['Заявка, id'\n",
    "           ,'МНО, Адрес'\n",
    "           ,'МНО_Координаты (Ш,Д)'\n",
    "           ,'Объект переработки, Адрес'\n",
    "           ,'ОП_Координаты (Ш,Д)'\n",
    "          ] ]\n",
    "\n",
    "# переименование колонок\n",
    "df1 = df1.rename(columns = {'Заявка, id':'bid_id'\n",
    "                           ,'МНО, Адрес':'mno_add'\n",
    "                           ,'МНО_Координаты (Ш,Д)':'mno_geo'\n",
    "                           ,'Объект переработки, Адрес':'orec_add'\n",
    "                           ,'ОП_Координаты (Ш,Д)':'orec_geo'\n",
    "                           } )\n",
    "\n",
    "# # Устанавливаем новый индекс\n",
    "# df1 = df1.set_index('bid_id')\n",
    "\n",
    "# Удаляем адреса без конечной геолокации\n",
    "df1 = df1.dropna(subset=['orec_add'])\n"
   ]
  },
  {
   "cell_type": "code",
   "execution_count": 4,
   "id": "fb0479ec",
   "metadata": {},
   "outputs": [
    {
     "data": {
      "text/html": [
       "<div>\n",
       "<style scoped>\n",
       "    .dataframe tbody tr th:only-of-type {\n",
       "        vertical-align: middle;\n",
       "    }\n",
       "\n",
       "    .dataframe tbody tr th {\n",
       "        vertical-align: top;\n",
       "    }\n",
       "\n",
       "    .dataframe thead th {\n",
       "        text-align: right;\n",
       "    }\n",
       "</style>\n",
       "<table border=\"1\" class=\"dataframe\">\n",
       "  <thead>\n",
       "    <tr style=\"text-align: right;\">\n",
       "      <th></th>\n",
       "      <th>bid_id</th>\n",
       "      <th>mno_add</th>\n",
       "      <th>mno_geo</th>\n",
       "      <th>orec_add</th>\n",
       "      <th>orec_geo</th>\n",
       "    </tr>\n",
       "  </thead>\n",
       "  <tbody>\n",
       "    <tr>\n",
       "      <th>849</th>\n",
       "      <td>64986</td>\n",
       "      <td>г Тула, ул Жаворонкова, д 1</td>\n",
       "      <td>54.177406,37.602577</td>\n",
       "      <td>142400, г. Ногинск, ул. Индустриальная, д.41, ...</td>\n",
       "      <td>55.87536,38.444992</td>\n",
       "    </tr>\n",
       "    <tr>\n",
       "      <th>937</th>\n",
       "      <td>64825</td>\n",
       "      <td>Калининградская обл, г Светлый, Сосновый пер, ...</td>\n",
       "      <td>54.675037,20.123331</td>\n",
       "      <td>г Калининград, ул А.Невского, д 240</td>\n",
       "      <td>54.757254,20.552349</td>\n",
       "    </tr>\n",
       "    <tr>\n",
       "      <th>944</th>\n",
       "      <td>64814</td>\n",
       "      <td>Ставропольский край, Красногвардейский р-н, се...</td>\n",
       "      <td>45.812399,41.896662</td>\n",
       "      <td>Ростовская область, Семикаракорский район, в 3...</td>\n",
       "      <td>47.514144,40.896821</td>\n",
       "    </tr>\n",
       "    <tr>\n",
       "      <th>948</th>\n",
       "      <td>64810</td>\n",
       "      <td>Оренбургская обл, г Гай, Технологический проез...</td>\n",
       "      <td>51.441559,58.407161</td>\n",
       "      <td>Республика Башкортостан, г Уфа, Бирский тракт,...</td>\n",
       "      <td>54.8456081,56.1178162</td>\n",
       "    </tr>\n",
       "    <tr>\n",
       "      <th>952</th>\n",
       "      <td>64805</td>\n",
       "      <td>Краснодарский край, Каневской р-н, ст-ца Челба...</td>\n",
       "      <td>45.972557,39.369893</td>\n",
       "      <td>Ростовская область, Семикаракорский район, в 3...</td>\n",
       "      <td>47.514144,40.896821</td>\n",
       "    </tr>\n",
       "  </tbody>\n",
       "</table>\n",
       "</div>"
      ],
      "text/plain": [
       "     bid_id                                            mno_add  \\\n",
       "849   64986                        г Тула, ул Жаворонкова, д 1   \n",
       "937   64825  Калининградская обл, г Светлый, Сосновый пер, ...   \n",
       "944   64814  Ставропольский край, Красногвардейский р-н, се...   \n",
       "948   64810  Оренбургская обл, г Гай, Технологический проез...   \n",
       "952   64805  Краснодарский край, Каневской р-н, ст-ца Челба...   \n",
       "\n",
       "                 mno_geo                                           orec_add  \\\n",
       "849  54.177406,37.602577  142400, г. Ногинск, ул. Индустриальная, д.41, ...   \n",
       "937  54.675037,20.123331                г Калининград, ул А.Невского, д 240   \n",
       "944  45.812399,41.896662  Ростовская область, Семикаракорский район, в 3...   \n",
       "948  51.441559,58.407161  Республика Башкортостан, г Уфа, Бирский тракт,...   \n",
       "952  45.972557,39.369893  Ростовская область, Семикаракорский район, в 3...   \n",
       "\n",
       "                  orec_geo  \n",
       "849     55.87536,38.444992  \n",
       "937    54.757254,20.552349  \n",
       "944    47.514144,40.896821  \n",
       "948  54.8456081,56.1178162  \n",
       "952    47.514144,40.896821  "
      ]
     },
     "execution_count": 4,
     "metadata": {},
     "output_type": "execute_result"
    }
   ],
   "source": [
    "df1 = df1.query('bid_id >= 63000')\n",
    "df1"
   ]
  },
  {
   "cell_type": "code",
   "execution_count": 23,
   "id": "1e22fc29",
   "metadata": {},
   "outputs": [
    {
     "name": "stdout",
     "output_type": "stream",
     "text": [
      "*\n",
      "*\n",
      "*\n",
      "*\n",
      "*\n"
     ]
    },
    {
     "data": {
      "text/html": [
       "<div>\n",
       "<style scoped>\n",
       "    .dataframe tbody tr th:only-of-type {\n",
       "        vertical-align: middle;\n",
       "    }\n",
       "\n",
       "    .dataframe tbody tr th {\n",
       "        vertical-align: top;\n",
       "    }\n",
       "\n",
       "    .dataframe thead th {\n",
       "        text-align: right;\n",
       "    }\n",
       "</style>\n",
       "<table border=\"1\" class=\"dataframe\">\n",
       "  <thead>\n",
       "    <tr style=\"text-align: right;\">\n",
       "      <th></th>\n",
       "      <th>bid_id</th>\n",
       "      <th>mno_add</th>\n",
       "      <th>mno_geo</th>\n",
       "      <th>orec_add</th>\n",
       "      <th>orec_geo</th>\n",
       "      <th>distance</th>\n",
       "    </tr>\n",
       "  </thead>\n",
       "  <tbody>\n",
       "    <tr>\n",
       "      <th>849</th>\n",
       "      <td>64986</td>\n",
       "      <td>г Тула, ул Жаворонкова, д 1</td>\n",
       "      <td>54.177406,37.602577</td>\n",
       "      <td>142400, г. Ногинск, ул. Индустриальная, д.41, ...</td>\n",
       "      <td>55.87536,38.444992</td>\n",
       "      <td>236</td>\n",
       "    </tr>\n",
       "    <tr>\n",
       "      <th>937</th>\n",
       "      <td>64825</td>\n",
       "      <td>Калининградская обл, г Светлый, Сосновый пер, ...</td>\n",
       "      <td>54.675037,20.123331</td>\n",
       "      <td>г Калининград, ул А.Невского, д 240</td>\n",
       "      <td>54.757254,20.552349</td>\n",
       "      <td>33</td>\n",
       "    </tr>\n",
       "    <tr>\n",
       "      <th>944</th>\n",
       "      <td>64814</td>\n",
       "      <td>Ставропольский край, Красногвардейский р-н, се...</td>\n",
       "      <td>45.812399,41.896662</td>\n",
       "      <td>Ростовская область, Семикаракорский район, в 3...</td>\n",
       "      <td>47.514144,40.896821</td>\n",
       "      <td>295</td>\n",
       "    </tr>\n",
       "    <tr>\n",
       "      <th>948</th>\n",
       "      <td>64810</td>\n",
       "      <td>Оренбургская обл, г Гай, Технологический проез...</td>\n",
       "      <td>51.441559,58.407161</td>\n",
       "      <td>Республика Башкортостан, г Уфа, Бирский тракт,...</td>\n",
       "      <td>54.8456081,56.1178162</td>\n",
       "      <td>607</td>\n",
       "    </tr>\n",
       "    <tr>\n",
       "      <th>952</th>\n",
       "      <td>64805</td>\n",
       "      <td>Краснодарский край, Каневской р-н, ст-ца Челба...</td>\n",
       "      <td>45.972557,39.369893</td>\n",
       "      <td>Ростовская область, Семикаракорский район, в 3...</td>\n",
       "      <td>47.514144,40.896821</td>\n",
       "      <td>277</td>\n",
       "    </tr>\n",
       "  </tbody>\n",
       "</table>\n",
       "</div>"
      ],
      "text/plain": [
       "     bid_id                                            mno_add  \\\n",
       "849   64986                        г Тула, ул Жаворонкова, д 1   \n",
       "937   64825  Калининградская обл, г Светлый, Сосновый пер, ...   \n",
       "944   64814  Ставропольский край, Красногвардейский р-н, се...   \n",
       "948   64810  Оренбургская обл, г Гай, Технологический проез...   \n",
       "952   64805  Краснодарский край, Каневской р-н, ст-ца Челба...   \n",
       "\n",
       "                 mno_geo                                           orec_add  \\\n",
       "849  54.177406,37.602577  142400, г. Ногинск, ул. Индустриальная, д.41, ...   \n",
       "937  54.675037,20.123331                г Калининград, ул А.Невского, д 240   \n",
       "944  45.812399,41.896662  Ростовская область, Семикаракорский район, в 3...   \n",
       "948  51.441559,58.407161  Республика Башкортостан, г Уфа, Бирский тракт,...   \n",
       "952  45.972557,39.369893  Ростовская область, Семикаракорский район, в 3...   \n",
       "\n",
       "                  orec_geo  distance  \n",
       "849     55.87536,38.444992       236  \n",
       "937    54.757254,20.552349        33  \n",
       "944    47.514144,40.896821       295  \n",
       "948  54.8456081,56.1178162       607  \n",
       "952    47.514144,40.896821       277  "
      ]
     },
     "execution_count": 23,
     "metadata": {},
     "output_type": "execute_result"
    }
   ],
   "source": [
    "# Скрейпер дистанции\n",
    "def get_distance(from_address, to_address):\n",
    "#     user_agent = UserAgent()  # Инициализируем объект UserAgent для генерации fake user-agent\n",
    "#     headers = {'User-Agent': user_agent.random}  # Генерируем случайный fake user-agent\n",
    "    url = f'https://www.avtodispetcher.ru/distance/?from={from_address}&to={to_address}'\n",
    "    resp = requests.get(url)  #, headers=headers)\n",
    "    soup = BeautifulSoup(resp.content, 'html.parser')\n",
    "    distance = soup.find('span', {'id': 'totalDistance'}).text\n",
    "    time.sleep(5)  # Добавляем паузу между запросами для эмуляции человеческого поведения\n",
    "    print('*')\n",
    "    return distance\n",
    "\n",
    "# Добавить колонку\n",
    "df1['distance'] = df1.apply(lambda x: get_distance(x['mno_geo'], x['orec_geo']), axis=1)\n",
    "df1['distance'] = df1['distance'].astype('int64')\n",
    "df1"
   ]
  },
  {
   "cell_type": "code",
   "execution_count": 24,
   "id": "a92ba3fe",
   "metadata": {},
   "outputs": [
    {
     "data": {
      "text/plain": [
       "bid_id       int64\n",
       "mno_add     object\n",
       "mno_geo     object\n",
       "orec_add    object\n",
       "orec_geo    object\n",
       "distance     int64\n",
       "dtype: object"
      ]
     },
     "execution_count": 24,
     "metadata": {},
     "output_type": "execute_result"
    }
   ],
   "source": [
    "df1.dtypes"
   ]
  },
  {
   "cell_type": "code",
   "execution_count": 25,
   "id": "ba6ab029",
   "metadata": {},
   "outputs": [],
   "source": [
    "# Сохраняем файл\n",
    "df1.to_excel(f\"{pd.Timestamp.now().strftime('%Y %m %d')}_Дистанция от МНО до ОП.xlsx\")"
   ]
  }
 ],
 "metadata": {
  "kernelspec": {
   "display_name": "Python 3 (ipykernel)",
   "language": "python",
   "name": "python3"
  },
  "language_info": {
   "codemirror_mode": {
    "name": "ipython",
    "version": 3
   },
   "file_extension": ".py",
   "mimetype": "text/x-python",
   "name": "python",
   "nbconvert_exporter": "python",
   "pygments_lexer": "ipython3",
   "version": "3.9.7"
  },
  "toc": {
   "base_numbering": 1,
   "nav_menu": {},
   "number_sections": true,
   "sideBar": true,
   "skip_h1_title": false,
   "title_cell": "Table of Contents",
   "title_sidebar": "Contents",
   "toc_cell": false,
   "toc_position": {},
   "toc_section_display": true,
   "toc_window_display": false
  }
 },
 "nbformat": 4,
 "nbformat_minor": 5
}
